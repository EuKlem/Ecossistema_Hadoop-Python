{
  "nbformat": 4,
  "nbformat_minor": 0,
  "metadata": {
    "colab": {
      "provenance": [],
      "authorship_tag": "ABX9TyPEp3YKvnfBokTe5GTa5YW4",
      "include_colab_link": true
    },
    "kernelspec": {
      "name": "python3",
      "display_name": "Python 3"
    },
    "language_info": {
      "name": "python"
    }
  },
  "cells": [
    {
      "cell_type": "markdown",
      "metadata": {
        "id": "view-in-github",
        "colab_type": "text"
      },
      "source": [
        "<a href=\"https://colab.research.google.com/github/EuKlem/Ecossistema_Hadoop-Python/blob/main/Ecossistema_Hadoop.ipynb\" target=\"_parent\"><img src=\"https://colab.research.google.com/assets/colab-badge.svg\" alt=\"Open In Colab\"/></a>"
      ]
    },
    {
      "cell_type": "markdown",
      "source": [
        "Packages Collections: **Counter**"
      ],
      "metadata": {
        "id": "EoTnlUqvsc6m"
      }
    },
    {
      "cell_type": "code",
      "execution_count": null,
      "metadata": {
        "id": "pRSDp68msPKf"
      },
      "outputs": [],
      "source": [
        "from collections import Counter\n",
        "\n",
        "\n",
        "#Exercício: 1\n",
        "print(Counter(\"mississippi\"))"
      ]
    },
    {
      "cell_type": "code",
      "source": [
        "from collections import Counter\n",
        "\n",
        "#Exercício: 2\n",
        "itens = Counter(\"mississipi\")\n",
        "itens = Counter(itens)\n",
        "print(itens)\n",
        "\n",
        "itens.update(\"missouri\")\n",
        "print(itens)"
      ],
      "metadata": {
        "id": "xW21DHmHtMin"
      },
      "execution_count": null,
      "outputs": []
    },
    {
      "cell_type": "code",
      "source": [
        "from collections import Counter\n",
        "\n",
        "#Exercício: 3\n",
        "print(Counter(['B','B','A','B','C','A','B','B','A','C']))\n",
        "\n",
        "print(Counter({'A':3, 'B':5, 'C':2}))\n",
        "\n",
        "print(Counter(A = 3, B = 5, C = 2))"
      ],
      "metadata": {
        "id": "EpKEvb47tSP7"
      },
      "execution_count": null,
      "outputs": []
    },
    {
      "cell_type": "code",
      "source": [
        "from collections import Counter\n",
        "\n",
        "#Exercício: 4\n",
        "lista = Counter(['B','B','A','B','C','A','B','B','A','C'])\n",
        "\n",
        "frequente = lista.most_common(1)\n",
        "print(\"Elemento + comum\", frequente)"
      ],
      "metadata": {
        "id": "ze2P1U12tUq6"
      },
      "execution_count": null,
      "outputs": []
    },
    {
      "cell_type": "code",
      "source": [
        "from collections import Counter\n",
        "\n",
        "#Exercício: 5\n",
        "import json\n",
        "\n",
        "arquivo1 = open(\"contar1.txt\")\n",
        "texto1 = arquivo1.read()\n",
        "contador1 = json.loads(texto1)\n",
        "\n",
        "arquivo2 = open(\"contar2.txt\")\n",
        "texto2 = arquivo2.read()\n",
        "contador2 = json.loads(texto2)\n",
        "\n",
        "juntar = Counter(contador1) + Counter(contador2)\n",
        "\n",
        "print(juntar)"
      ],
      "metadata": {
        "id": "vdIqHhcatU0A"
      },
      "execution_count": null,
      "outputs": []
    },
    {
      "cell_type": "markdown",
      "source": [
        "Packages Collections: **ChainMap**"
      ],
      "metadata": {
        "id": "wPdSJRQQt2k0"
      }
    },
    {
      "cell_type": "code",
      "source": [
        "#Programa feito para criar uma cadeia de dicionários usando ChainMap\n",
        "\n",
        "\n",
        "from collections import ChainMap\n",
        "\n",
        "\n",
        "#Exercício:\n",
        "dict_A = {'a':1,'b':2}\n",
        "dict_B = {'c':3,'d':4}\n",
        "dict_C = {'e':5,'f':6}\n",
        "\n",
        "dict_maps = ChainMap(dict_A, dict_B, dict_C)\n",
        "\n",
        "print(dict_maps)"
      ],
      "metadata": {
        "id": "OwqeSs0AaE8F"
      },
      "execution_count": null,
      "outputs": []
    },
    {
      "cell_type": "markdown",
      "source": [
        "Function: **Map**"
      ],
      "metadata": {
        "id": "cgm3vwlPv1wo"
      }
    },
    {
      "cell_type": "code",
      "source": [
        "#Exercício:\n",
        "\n",
        "import math\n",
        "\n",
        "lista1 = [1,4,9,16,25]\n",
        "lista2 = map(math.sqrt, lista1)\n",
        "print(list(lista2))"
      ],
      "metadata": {
        "id": "zYoZiACbbIwj"
      },
      "execution_count": null,
      "outputs": []
    },
    {
      "cell_type": "markdown",
      "source": [
        "Function: **Filter**"
      ],
      "metadata": {
        "id": "WcyKo9S-wSyh"
      }
    },
    {
      "cell_type": "code",
      "source": [
        "#Exercício: 1\n",
        "\n",
        "def maior_zero(x):\n",
        "  return x > 0\n",
        "\n",
        "valores = [100, 8, -1, 3, 5, -9, -12]\n",
        "print(list(filter(maior_zero, valores)))"
      ],
      "metadata": {
        "id": "L76nZ72RwkpD"
      },
      "execution_count": null,
      "outputs": []
    },
    {
      "cell_type": "code",
      "source": [
        "#Exercício: 2\n",
        "\n",
        "x = 0\n",
        "def funcao(x):\n",
        "  return x > 0 and x < 100\n",
        "\n",
        "valores = [111, 34, 54, 834, 90, -103, 101]\n",
        "\n",
        "print(list(filter(funcao, valores)))"
      ],
      "metadata": {
        "id": "Hy3yyVKfwxqm"
      },
      "execution_count": null,
      "outputs": []
    },
    {
      "cell_type": "markdown",
      "source": [
        "Function: **Lambda**"
      ],
      "metadata": {
        "id": "jFXO9o1gxpQE"
      }
    },
    {
      "cell_type": "code",
      "source": [
        "#Exercício: 1\n",
        "\n",
        "valores = [111, 34, 54, 834, 90, -103, 101]\n",
        "print(list(filter(lambda x: x > 0 and x < 100, valores)))"
      ],
      "metadata": {
        "id": "YA7n09YZw3ZB"
      },
      "execution_count": null,
      "outputs": []
    },
    {
      "cell_type": "code",
      "source": [
        "#Exercício: 2\n",
        "\n",
        "numbers = [10,12,21,33,45,55]\n",
        "mapear_numbers = list(map(lambda x: x * 2 + 3, numbers))\n",
        "print(mapear_numbers)"
      ],
      "metadata": {
        "id": "JRQwDJhJxF7G"
      },
      "execution_count": null,
      "outputs": []
    },
    {
      "cell_type": "code",
      "source": [
        "3#Exercício: 3\n",
        "\n",
        "valores1 = [1,2,3,4,5,6,7,8,9,10,11,12,13,14,15]\n",
        "print(list(filter(lambda x: x % 2 == 0, valores1)))\n",
        "\n",
        "valores2 =[1,2,3,4,5,6,7,8,9,10,11,12,13,14,15]\n",
        "print(list(filter(lambda x: x % 2 == 1, valores2)))"
      ],
      "metadata": {
        "id": "QYjny509xQpW"
      },
      "execution_count": null,
      "outputs": []
    },
    {
      "cell_type": "code",
      "source": [
        "#Exercício: 4\n",
        "\n",
        "valores = [1,2,3,4,5,6,7,8,9,10,11,12,13,14,15]\n",
        "print(list(map(lambda x: x ** 2, valores)))"
      ],
      "metadata": {
        "id": "qM2TTBOTxTaA"
      },
      "execution_count": null,
      "outputs": []
    }
  ]
}