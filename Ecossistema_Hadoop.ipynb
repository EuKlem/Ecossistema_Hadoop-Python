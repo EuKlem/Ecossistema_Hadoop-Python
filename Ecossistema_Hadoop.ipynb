{
  "nbformat": 4,
  "nbformat_minor": 0,
  "metadata": {
    "colab": {
      "provenance": [],
      "authorship_tag": "ABX9TyM9smg4TVHlYbPUHuo2mxEc",
      "include_colab_link": true
    },
    "kernelspec": {
      "name": "python3",
      "display_name": "Python 3"
    },
    "language_info": {
      "name": "python"
    }
  },
  "cells": [
    {
      "cell_type": "markdown",
      "metadata": {
        "id": "view-in-github",
        "colab_type": "text"
      },
      "source": [
        "<a href=\"https://colab.research.google.com/github/EuKlem/Ecossistema_Hadoop-Python/blob/main/Ecossistema_Hadoop.ipynb\" target=\"_parent\"><img src=\"https://colab.research.google.com/assets/colab-badge.svg\" alt=\"Open In Colab\"/></a>"
      ]
    },
    {
      "cell_type": "markdown",
      "source": [
        "Packages Collections: **Counter**"
      ],
      "metadata": {
        "id": "EoTnlUqvsc6m"
      }
    },
    {
      "cell_type": "code",
      "execution_count": null,
      "metadata": {
        "id": "pRSDp68msPKf"
      },
      "outputs": [],
      "source": [
        "from collections import Counter\n",
        "\n",
        "\n",
        "#Exercício: 1\n",
        "print(Counter(\"mississippi\"))"
      ]
    },
    {
      "cell_type": "code",
      "source": [
        "from collections import Counter\n",
        "\n",
        "#Exercício: 2\n",
        "itens = Counter(\"mississipi\")\n",
        "itens = Counter(itens)\n",
        "print(itens)\n",
        "\n",
        "itens.update(\"missouri\")\n",
        "print(itens)"
      ],
      "metadata": {
        "id": "xW21DHmHtMin"
      },
      "execution_count": null,
      "outputs": []
    },
    {
      "cell_type": "code",
      "source": [
        "from collections import Counter\n",
        "\n",
        "#Exercício: 3\n",
        "print(Counter(['B','B','A','B','C','A','B','B','A','C']))\n",
        "\n",
        "print(Counter({'A':3, 'B':5, 'C':2}))\n",
        "\n",
        "print(Counter(A = 3, B = 5, C = 2))"
      ],
      "metadata": {
        "id": "EpKEvb47tSP7"
      },
      "execution_count": null,
      "outputs": []
    },
    {
      "cell_type": "code",
      "source": [
        "from collections import Counter\n",
        "\n",
        "#Exercício: 4\n",
        "lista = Counter(['B','B','A','B','C','A','B','B','A','C'])\n",
        "\n",
        "frequente = lista.most_common(1)\n",
        "print(\"Elemento + comum\", frequente)"
      ],
      "metadata": {
        "id": "ze2P1U12tUq6"
      },
      "execution_count": null,
      "outputs": []
    },
    {
      "cell_type": "code",
      "source": [
        "from collections import Counter\n",
        "\n",
        "#Exercício: 5\n",
        "import json\n",
        "\n",
        "arquivo1 = open(\"contar1.txt\")\n",
        "texto1 = arquivo1.read()\n",
        "contador1 = json.loads(texto1)\n",
        "\n",
        "arquivo2 = open(\"contar2.txt\")\n",
        "texto2 = arquivo2.read()\n",
        "contador2 = json.loads(texto2)\n",
        "\n",
        "juntar = Counter(contador1) + Counter(contador2)\n",
        "\n",
        "print(juntar)"
      ],
      "metadata": {
        "id": "vdIqHhcatU0A"
      },
      "execution_count": null,
      "outputs": []
    },
    {
      "cell_type": "markdown",
      "source": [
        "Packages Collections: **ChainMap**"
      ],
      "metadata": {
        "id": "wPdSJRQQt2k0"
      }
    },
    {
      "cell_type": "code",
      "source": [
        "#Programa feito para criar uma cadeia de dicionários usando ChainMap\n",
        "\n",
        "\n",
        "from collections import ChainMap\n",
        "\n",
        "\n",
        "#Exercício:\n",
        "dict_A = {'a':1,'b':2}\n",
        "dict_B = {'c':3,'d':4}\n",
        "dict_C = {'e':5,'f':6}\n",
        "\n",
        "dict_maps = ChainMap(dict_A, dict_B, dict_C)\n",
        "\n",
        "print(dict_maps)"
      ],
      "metadata": {
        "id": "OwqeSs0AaE8F"
      },
      "execution_count": null,
      "outputs": []
    }
  ]
}