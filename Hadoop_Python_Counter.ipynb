{
  "nbformat": 4,
  "nbformat_minor": 0,
  "metadata": {
    "colab": {
      "provenance": [],
      "authorship_tag": "ABX9TyMzscDxG1Bm/u1uOoaKvE6J",
      "include_colab_link": true
    },
    "kernelspec": {
      "name": "python3",
      "display_name": "Python 3"
    },
    "language_info": {
      "name": "python"
    }
  },
  "cells": [
    {
      "cell_type": "markdown",
      "metadata": {
        "id": "view-in-github",
        "colab_type": "text"
      },
      "source": [
        "<a href=\"https://colab.research.google.com/github/EuKlem/Ecossistema_Hadoop-Python_Counter/blob/main/Hadoop_Python_Counter.ipynb\" target=\"_parent\"><img src=\"https://colab.research.google.com/assets/colab-badge.svg\" alt=\"Open In Colab\"/></a>"
      ]
    },
    {
      "cell_type": "code",
      "source": [
        "#Código para contar quantas palavras tem.\n",
        "#Packages Collection: Counter.\n",
        "\n",
        "\n",
        "from collections import Counter\n",
        "\n",
        "\n",
        "#Exercício: 1\n",
        "print(Counter(\"mississippi\"))\n",
        "\n",
        "\n",
        "\n",
        "#Exercício: 2\n",
        "itens = Counter(\"mississipi\")\n",
        "itens = Counter(itens)\n",
        "print(itens)\n",
        "\n",
        "itens.update(\"missouri\")\n",
        "print(itens)\n",
        "\n",
        "\n",
        "\n",
        "#Exercício: 3\n",
        "print(Counter(['B','B','A','B','C','A','B','B','A','C']))\n",
        "\n",
        "print(Counter({'A':3, 'B':5, 'C':2}))\n",
        "\n",
        "print(Counter(A = 3, B = 5, C = 2))\n",
        "\n",
        "\n",
        "\n",
        "#Exercício: 4\n",
        "lista = Counter(['B','B','A','B','C','A','B','B','A','C'])\n",
        "\n",
        "frequente = lista.most_common(1)\n",
        "print(\"Elemento + comum\", frequente)\n",
        "\n",
        "\n",
        "\n",
        "#Exercício: 5\n",
        "import json\n",
        "\n",
        "arquivo1 = open(\"contar1.txt\")\n",
        "texto1 = arquivo1.read()\n",
        "contador1 = json.loads(texto1)\n",
        "\n",
        "arquivo2 = open(\"contar2.txt\")\n",
        "texto2 = arquivo2.read()\n",
        "contador2 = json.loads(texto2)\n",
        "\n",
        "juntar = Counter(contador1) + Counter(contador2)\n",
        "\n",
        "print(juntar)"
      ],
      "metadata": {
        "id": "Gb4AOFd3O8QF"
      },
      "execution_count": null,
      "outputs": []
    }
  ]
}